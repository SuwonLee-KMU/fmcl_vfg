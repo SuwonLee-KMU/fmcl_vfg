{
 "cells": [
  {
   "cell_type": "markdown",
   "metadata": {},
   "source": [
    "# Path Following Algorithm API\n",
    "## Platform\n",
    "- Crazyflie"
   ]
  },
  {
   "cell_type": "code",
   "execution_count": 1,
   "metadata": {},
   "outputs": [],
   "source": [
    "import numpy as np\n",
    "import math\n",
    "# import plotly.graph_objects as go\n",
    "# from scipy import special\n",
    "import MSPN_230203 as MSPN\n"
   ]
  },
  {
   "cell_type": "markdown",
   "metadata": {},
   "source": [
    "Development Elements\n",
    "\n",
    "1. Planar Bezier Curve / Planar PH Curve <- Hermite Interpolation\n",
    "2. Space Bezier Curve\n",
    "3. Vector Field-bases Guidance algorithm"
   ]
  },
  {
   "cell_type": "code",
   "execution_count": 2,
   "metadata": {},
   "outputs": [],
   "source": [
    "# 2차원 경로점\n",
    "Ps = [\n",
    "    [0,0],\n",
    "    [1,0],\n",
    "]\n",
    "Ts = [\n",
    "    [1,-1],\n",
    "    [1,1]\n",
    "]\n",
    "Ts = [MSPN.normalize(T) for T in Ts]\n",
    "# Hermite Interpolation\n",
    "h = MSPN.HermiteInterpolation(\n",
    "    Ps = Ps,\n",
    "    Ts = Ts,\n",
    "    scaling = 0.3,\n",
    "    mode = 0,\n",
    "    tau = np.linspace(0,1,100)\n",
    ")\n",
    "# Planar PH Curve evaluation\n",
    "q = MSPN.PlanarPHCurve(h)\n",
    "tau = np.linspace(0,1,100)\n",
    "pos = q(tau)\n",
    "x = np.real(pos)\n",
    "y = np.imag(pos)"
   ]
  },
  {
   "cell_type": "markdown",
   "metadata": {},
   "source": [
    "Vector Field-based Guidance\n",
    "- PlanarVehicle 모듈을 활용한다.\n",
    "- 학생에게 시뮬레이션 하는 부분에 대한 설명을 진행한다.\n",
    "- RK4 수치적분을 구현하자.\n",
    "- "
   ]
  },
  {
   "cell_type": "code",
   "execution_count": null,
   "metadata": {},
   "outputs": [],
   "source": [
    "class RefCurve(crv.PlanarPHCurve):\n",
    "    \"\"\"VFG를 적용하기 위해 __call__()메서드 오버라이딩\"\"\"\n",
    "    def __call__(self, tau, **kwargs):\n",
    "        return super().__call__(tau, form=\"real\")\n",
    "        "
   ]
  },
  {
   "cell_type": "code",
   "execution_count": null,
   "metadata": {},
   "outputs": [],
   "source": []
  },
  {
   "cell_type": "code",
   "execution_count": null,
   "metadata": {},
   "outputs": [],
   "source": []
  }
 ],
 "metadata": {
  "kernelspec": {
   "display_name": "mspn",
   "language": "python",
   "name": "python3"
  },
  "language_info": {
   "codemirror_mode": {
    "name": "ipython",
    "version": 3
   },
   "file_extension": ".py",
   "mimetype": "text/x-python",
   "name": "python",
   "nbconvert_exporter": "python",
   "pygments_lexer": "ipython3",
   "version": "3.10.0"
  },
  "orig_nbformat": 4
 },
 "nbformat": 4,
 "nbformat_minor": 2
}
